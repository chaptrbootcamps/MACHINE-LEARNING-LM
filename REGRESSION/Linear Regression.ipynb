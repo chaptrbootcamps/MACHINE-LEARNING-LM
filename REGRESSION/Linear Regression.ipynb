{
 "cells": [
  {
   "cell_type": "markdown",
   "metadata": {},
   "source": [
    "# LINEAR REGRESSION"
   ]
  },
  {
   "cell_type": "code",
   "execution_count": 9,
   "metadata": {},
   "outputs": [],
   "source": [
    "import numpy as np\n",
    "import pandas as pd\n",
    "import matplotlib.pyplot as plt"
   ]
  },
  {
   "cell_type": "code",
   "execution_count": 10,
   "metadata": {},
   "outputs": [],
   "source": [
    "RANDOM_SEED = 123 # for reproducability\n",
    "NUMBER_OF_SAMPLES = 100 # you can change the number of samples\n",
    "\n",
    "np.random.seed(RANDOM_SEED)"
   ]
  },
  {
   "cell_type": "code",
   "execution_count": 11,
   "metadata": {},
   "outputs": [],
   "source": [
    "# function to generate random samples\n",
    "# - We generate a random sample and add some noise to it\n",
    "def generate_data(number_of_samples):\n",
    "    x = np.array(range(number_of_samples))\n",
    "    noise = np.random.uniform(0,200,number_of_samples)\n",
    "    y = 3.2 * x + noise\n",
    "    return x,y\n"
   ]
  },
  {
   "cell_type": "code",
   "execution_count": 12,
   "metadata": {},
   "outputs": [
    {
     "data": {
      "text/plain": [
       "(array([ 0,  1,  2,  3,  4,  5,  6,  7,  8,  9, 10, 11, 12, 13, 14, 15, 16,\n",
       "        17, 18, 19, 20, 21, 22, 23, 24, 25, 26, 27, 28, 29, 30, 31, 32, 33,\n",
       "        34, 35, 36, 37, 38, 39, 40, 41, 42, 43, 44, 45, 46, 47, 48, 49, 50,\n",
       "        51, 52, 53, 54, 55, 56, 57, 58, 59, 60, 61, 62, 63, 64, 65, 66, 67,\n",
       "        68, 69, 70, 71, 72, 73, 74, 75, 76, 77, 78, 79, 80, 81, 82, 83, 84,\n",
       "        85, 86, 87, 88, 89, 90, 91, 92, 93, 94, 95, 96, 97, 98, 99]),\n",
       " array([139.29383712,  60.42786699,  51.77029071, 119.86295382,\n",
       "        156.69379396, 100.62129202, 215.35283968, 159.36594772,\n",
       "        121.7863803 , 107.22350364, 100.63560323, 181.00994148,\n",
       "        126.11444894,  53.53557932, 124.40885107, 195.59908115,\n",
       "         87.69834609,  89.49035123, 163.91027477, 167.16551742,\n",
       "        190.88019171, 237.08635882, 215.29106497, 195.80470214,\n",
       "        221.28867651, 144.59178277, 155.55773112, 132.05264618,\n",
       "        148.34280928, 218.99522477, 114.42098799, 185.94023454,\n",
       "        188.57255267, 204.33701953, 193.96605806, 174.45224459,\n",
       "        200.47026139, 297.07783262, 310.43200364, 225.16733518,\n",
       "        252.79059036, 154.32367902, 197.85709636, 220.56524239,\n",
       "        314.06183158, 194.09107308, 243.80685285, 347.51195712,\n",
       "        257.49702385, 279.37890515, 184.1257332 , 328.4681601 ,\n",
       "        287.01202568, 278.61360129, 241.35276675, 236.82415781,\n",
       "        262.6044422 , 318.66015316, 360.69136836, 290.8844675 ,\n",
       "        325.86275659, 312.38731051, 323.38070042, 336.5378102 ,\n",
       "        373.26848752, 224.63899767, 363.93656829, 263.13327491,\n",
       "        256.44459212, 335.2913915 , 243.14250332, 404.26536526,\n",
       "        355.84979441, 378.28327164, 240.02584134, 358.88637589,\n",
       "        354.55703848, 278.19192883, 280.21410302, 391.90590575,\n",
       "        319.75328528, 397.59405911, 373.27664994, 343.39011482,\n",
       "        453.82649792, 440.33399938, 346.67951334, 287.11829276,\n",
       "        342.55361468, 364.43713638, 428.99176609, 490.27169641,\n",
       "        365.58297314, 450.10956276, 419.43538331, 442.34035974,\n",
       "        337.42549047, 390.17525855, 361.77117954, 385.49120281]))"
      ]
     },
     "execution_count": 12,
     "metadata": {},
     "output_type": "execute_result"
    }
   ],
   "source": [
    "data = generate_data(NUMBER_OF_SAMPLES)\n",
    "data"
   ]
  },
  {
   "cell_type": "code",
   "execution_count": 13,
   "metadata": {},
   "outputs": [],
   "source": [
    "# Convert the resultant array into a dataframe\n",
    "data = np.vstack(data).T\n",
    "\n",
    "data_df = pd.DataFrame(data, columns=['X','Y'])"
   ]
  },
  {
   "cell_type": "code",
   "execution_count": 14,
   "metadata": {},
   "outputs": [
    {
     "data": {
      "text/html": [
       "<div>\n",
       "<style scoped>\n",
       "    .dataframe tbody tr th:only-of-type {\n",
       "        vertical-align: middle;\n",
       "    }\n",
       "\n",
       "    .dataframe tbody tr th {\n",
       "        vertical-align: top;\n",
       "    }\n",
       "\n",
       "    .dataframe thead th {\n",
       "        text-align: right;\n",
       "    }\n",
       "</style>\n",
       "<table border=\"1\" class=\"dataframe\">\n",
       "  <thead>\n",
       "    <tr style=\"text-align: right;\">\n",
       "      <th></th>\n",
       "      <th>X</th>\n",
       "      <th>Y</th>\n",
       "    </tr>\n",
       "  </thead>\n",
       "  <tbody>\n",
       "    <tr>\n",
       "      <th>0</th>\n",
       "      <td>0.0</td>\n",
       "      <td>139.293837</td>\n",
       "    </tr>\n",
       "    <tr>\n",
       "      <th>1</th>\n",
       "      <td>1.0</td>\n",
       "      <td>60.427867</td>\n",
       "    </tr>\n",
       "    <tr>\n",
       "      <th>2</th>\n",
       "      <td>2.0</td>\n",
       "      <td>51.770291</td>\n",
       "    </tr>\n",
       "    <tr>\n",
       "      <th>3</th>\n",
       "      <td>3.0</td>\n",
       "      <td>119.862954</td>\n",
       "    </tr>\n",
       "    <tr>\n",
       "      <th>4</th>\n",
       "      <td>4.0</td>\n",
       "      <td>156.693794</td>\n",
       "    </tr>\n",
       "    <tr>\n",
       "      <th>...</th>\n",
       "      <td>...</td>\n",
       "      <td>...</td>\n",
       "    </tr>\n",
       "    <tr>\n",
       "      <th>95</th>\n",
       "      <td>95.0</td>\n",
       "      <td>442.340360</td>\n",
       "    </tr>\n",
       "    <tr>\n",
       "      <th>96</th>\n",
       "      <td>96.0</td>\n",
       "      <td>337.425490</td>\n",
       "    </tr>\n",
       "    <tr>\n",
       "      <th>97</th>\n",
       "      <td>97.0</td>\n",
       "      <td>390.175259</td>\n",
       "    </tr>\n",
       "    <tr>\n",
       "      <th>98</th>\n",
       "      <td>98.0</td>\n",
       "      <td>361.771180</td>\n",
       "    </tr>\n",
       "    <tr>\n",
       "      <th>99</th>\n",
       "      <td>99.0</td>\n",
       "      <td>385.491203</td>\n",
       "    </tr>\n",
       "  </tbody>\n",
       "</table>\n",
       "<p>100 rows × 2 columns</p>\n",
       "</div>"
      ],
      "text/plain": [
       "       X           Y\n",
       "0    0.0  139.293837\n",
       "1    1.0   60.427867\n",
       "2    2.0   51.770291\n",
       "3    3.0  119.862954\n",
       "4    4.0  156.693794\n",
       "..   ...         ...\n",
       "95  95.0  442.340360\n",
       "96  96.0  337.425490\n",
       "97  97.0  390.175259\n",
       "98  98.0  361.771180\n",
       "99  99.0  385.491203\n",
       "\n",
       "[100 rows x 2 columns]"
      ]
     },
     "execution_count": 14,
     "metadata": {},
     "output_type": "execute_result"
    }
   ],
   "source": [
    "data_df"
   ]
  },
  {
   "cell_type": "code",
   "execution_count": 15,
   "metadata": {},
   "outputs": [
    {
     "data": {
      "image/png": "[encoded data removed]",
      "text/plain": [
       "<Figure size 720x360 with 1 Axes>"
      ]
     },
     "metadata": {
      "needs_background": "light"
     },
     "output_type": "display_data"
    }
   ],
   "source": [
    "plt.figure(figsize=(10,5))\n",
    "\n",
    "plt.scatter(data_df['X'], data_df['Y'])\n",
    "plt.show()"
   ]
  },
  {
   "cell_type": "code",
   "execution_count": null,
   "metadata": {},
   "outputs": [],
   "source": []
  },
  {
   "cell_type": "code",
   "execution_count": 16,
   "metadata": {},
   "outputs": [],
   "source": [
    "# Function we will use to normalize (Z Score normalization)\n",
    "def normalize(data):\n",
    "    return (data - data.mean())/data.std()"
   ]
  },
  {
   "cell_type": "code",
   "execution_count": 17,
   "metadata": {},
   "outputs": [],
   "source": [
    "# Shuffle the data\n",
    "indices = list(np.arange(NUMBER_OF_SAMPLES))\n",
    "np.random.shuffle(indices)\n",
    "\n",
    "# train_test_split\n",
    "TRAIN_SIZE = 0.6\n",
    "EVAL_SIZE = 0.2\n",
    "TEST_SIZE = 0.2\n",
    "TRAIN_LENGHT = int(len(indices)*TRAIN_SIZE)\n",
    "EVAL_STOP = int(len(indices)*EVAL_SIZE)+TRAIN_LENGHT\n",
    "\n",
    "X = data_df['X'][indices]\n",
    "Y = data_df['Y'][indices]\n",
    "\n",
    "X_train, Y_train = X[0:TRAIN_LENGHT] , Y[0:TRAIN_LENGHT]\n",
    "X_eval, Y_eval = X[TRAIN_LENGHT:EVAL_STOP], Y[TRAIN_LENGHT : EVAL_STOP]\n",
    "X_test, Y_test = X[EVAL_STOP: ] , Y[EVAL_STOP:]"
   ]
  },
  {
   "cell_type": "code",
   "execution_count": 18,
   "metadata": {},
   "outputs": [
    {
     "data": {
      "text/plain": [
       "(60,)"
      ]
     },
     "execution_count": 18,
     "metadata": {},
     "output_type": "execute_result"
    }
   ],
   "source": [
    "X_train.shape"
   ]
  },
  {
   "cell_type": "code",
   "execution_count": 19,
   "metadata": {},
   "outputs": [],
   "source": [
    "#Normalize the data\n",
    "X_train, X_eval, X_test = normalize(X_train), normalize(X_eval), normalize(X_test)\n",
    "Y_train, Y_eval, Y_test = normalize(Y_train), normalize(Y_eval), normalize(Y_test)"
   ]
  },
  {
   "cell_type": "code",
   "execution_count": 20,
   "metadata": {},
   "outputs": [
    {
     "name": "stdout",
     "output_type": "stream",
     "text": [
      "-0.0 1.0\n"
     ]
    }
   ],
   "source": [
    "# Mean ~0 and STD ~1\n",
    "print(round(X_train.mean(),4) , round(X_train.std(),4) )"
   ]
  },
  {
   "cell_type": "markdown",
   "metadata": {},
   "source": [
    "Our goal is to model for a value y that is a function of a value <font color='orange'>X </font>, a bias <font color='orange'>c</font> and a weight <font color='orange'>m </font>  <br>\n",
    "$y = mX + c$"
   ]
  },
  {
   "cell_type": "code",
   "execution_count": 21,
   "metadata": {},
   "outputs": [
    {
     "name": "stdout",
     "output_type": "stream",
     "text": [
      "(60,) (60,)\n"
     ]
    }
   ],
   "source": [
    "print(X_train.shape, Y_train.shape)"
   ]
  },
  {
   "cell_type": "code",
   "execution_count": 22,
   "metadata": {},
   "outputs": [
    {
     "data": {
      "text/plain": [
       "1"
      ]
     },
     "execution_count": 22,
     "metadata": {},
     "output_type": "execute_result"
    }
   ],
   "source": [
    "X_train.ndim"
   ]
  },
  {
   "cell_type": "code",
   "execution_count": 25,
   "metadata": {},
   "outputs": [],
   "source": [
    "# We are trying to get the features in X_train which in our case is just 1\n",
    "# X_train.shape[1] # Returns an error"
   ]
  },
  {
   "cell_type": "code",
   "execution_count": 28,
   "metadata": {},
   "outputs": [],
   "source": [
    "try:\n",
    "    INPUT_DIM =  X_train.shape[1] \n",
    "    OUT_DIM =  Y_train.shape[1]\n",
    "except IndexError:\n",
    "    INPUT_DIM =  1\n",
    "    OUT_DIM =  1   \n",
    "    \n",
    "# You could also reshape X_train and Y_train at this point\n",
    "    \n",
    "INPUT_DIM =  X_train.ndim\n",
    "OUT_DIM =  Y_train.ndim "
   ]
  },
  {
   "cell_type": "code",
   "execution_count": 39,
   "metadata": {},
   "outputs": [
    {
     "name": "stdout",
     "output_type": "stream",
     "text": [
      "m :  [[0.07423953]]  shape :  (1, 1) \n",
      "c :  [[0.]]\n"
     ]
    }
   ],
   "source": [
    "# Initialize random weights\n",
    "m = 0.04 * np.random.randn(INPUT_DIM , OUT_DIM )\n",
    "c = np.zeros((1, 1))\n",
    "\n",
    "print(\"m : \", m ,\" shape : \",m.shape, \"\\nc : \", c)"
   ]
  },
  {
   "cell_type": "code",
   "execution_count": 33,
   "metadata": {},
   "outputs": [],
   "source": [
    "# Comment out to observe returned error : Value Error\n",
    "# y_pred = np.dot(X_train, m)+b"
   ]
  },
  {
   "cell_type": "code",
   "execution_count": 41,
   "metadata": {},
   "outputs": [
    {
     "data": {
      "text/plain": [
       "(60, 1)"
      ]
     },
     "execution_count": 41,
     "metadata": {},
     "output_type": "execute_result"
    }
   ],
   "source": [
    "X_train = np.array(X_train).reshape(X_train.shape[0], 1)\n",
    "X_eval = np.array(X_eval).reshape(X_eval.shape[0], 1)\n",
    "X_test = np.array(X_test).reshape(X_test.shape[0], 1)\n",
    "Y_train = np.array(Y_train).reshape(Y_train.shape[0], 1)\n",
    "Y_eval = np.array(Y_eval).reshape(Y_eval.shape[0], 1)\n",
    "Y_test = np.array(Y_test).reshape(Y_test.shape[0], 1)\n",
    "\n",
    "X_train.shape"
   ]
  },
  {
   "cell_type": "code",
   "execution_count": 42,
   "metadata": {},
   "outputs": [],
   "source": [
    "# Dot matrix  Nx1 by 1x1 = Nx1 \n",
    "y_pred = np.dot(X_train, m)+c\n",
    "\n",
    "# y_pred"
   ]
  },
  {
   "cell_type": "code",
   "execution_count": 43,
   "metadata": {},
   "outputs": [
    {
     "data": {
      "text/plain": [
       "0.8606934544361307"
      ]
     },
     "execution_count": 43,
     "metadata": {},
     "output_type": "execute_result"
    }
   ],
   "source": [
    "# Error\n",
    "# We will use: Mean Squared Error\n",
    "np.sum((Y_train - y_pred)**2)/len(Y_train)"
   ]
  },
  {
   "cell_type": "markdown",
   "metadata": {},
   "source": [
    "## Gradients\n",
    "Now , the gradient is the rate of change of weights.<br>\n",
    "So we adjust weights to fit our data better. Therefore we take a look at the rate of change for both <font color='orange'>_m_ </font>and \n",
    "    <font color='orange'>_b_ </font> <br>\n",
    "We differentiate the loss function, normaly we add the change to MAXIMIZE, but here we will subtract the change since we want to MINIMIZE the loss <br>\n",
    "We will differentiate our mean squared error function <font color='orange'> _np.sum((Y_train - y_pred)**2)/len(Y_train)_ </font><br>\n",
    "<br>\n",
    "For differantiation recall  <font color='orange'> _ypred = mX + c_ </font> <br>\n",
    "dm for ypred = X (which is the coefficient of mX or Xm ) , X in our case is X_train<br>\n",
    "dc for ypred = 1 (which is the coefficient of C) <br>\n",
    "len(Y_train) is a constant not a function"
   ]
  },
  {
   "cell_type": "code",
   "execution_count": 44,
   "metadata": {},
   "outputs": [],
   "source": [
    "# Backpropagation    \n",
    "\n",
    "dm = - 2*np.sum((Y_train - y_pred)*X_train)/len(Y_train)\n",
    "dc = - 2*np.sum((Y_train - y_pred)*1)/len(Y_train)"
   ]
  },
  {
   "cell_type": "markdown",
   "metadata": {},
   "source": [
    "The weights are updated using a learning rate (prefferably small)<br>\n",
    "The learning rate are like the fraction of the change by which to adjust"
   ]
  },
  {
   "cell_type": "code",
   "execution_count": 45,
   "metadata": {},
   "outputs": [],
   "source": [
    "LEARNING_RATE = 1e-1"
   ]
  },
  {
   "cell_type": "code",
   "execution_count": 46,
   "metadata": {},
   "outputs": [],
   "source": [
    "# We add the change\n",
    "# - We multiply by -ve because we are minimising\n",
    "m += - LEARNING_RATE * dm  \n",
    "c += - LEARNING_RATE * dc"
   ]
  },
  {
   "cell_type": "markdown",
   "metadata": {},
   "source": [
    "We repeat the above steps to train our data and minimize error"
   ]
  },
  {
   "cell_type": "code",
   "execution_count": 47,
   "metadata": {},
   "outputs": [],
   "source": [
    "EPOCHS = 100"
   ]
  },
  {
   "cell_type": "code",
   "execution_count": 48,
   "metadata": {},
   "outputs": [
    {
     "name": "stdout",
     "output_type": "stream",
     "text": [
      "Epoch : 0  Loss : 0.6359015440367835\n",
      "Epoch : 10  Loss : 0.23198667111917926\n",
      "Epoch : 20  Loss : 0.2269260292754207\n",
      "Epoch : 30  Loss : 0.22686262458896825\n",
      "Epoch : 40  Loss : 0.22686183019284456\n",
      "Epoch : 50  Loss : 0.2268618202398705\n",
      "Epoch : 60  Loss : 0.22686182011516987\n",
      "Epoch : 70  Loss : 0.22686182011360748\n",
      "Epoch : 80  Loss : 0.22686182011358788\n",
      "Epoch : 90  Loss : 0.2268618201135876\n",
      "Epoch : 100  Loss : 0.22686182011358766\n"
     ]
    }
   ],
   "source": [
    "for epoch_num in range(EPOCHS+1):\n",
    "    y_pred = np.dot(X_train, m)+c\n",
    "    \n",
    "    #loss\n",
    "    loss = (np.sum((Y_train - y_pred)**2))/len(Y_train)\n",
    "    \n",
    "    #print progress\n",
    "    if epoch_num % 10 == 0:\n",
    "        print(f'Epoch : {epoch_num}  Loss : {loss}')\n",
    "    \n",
    "    #update weights\n",
    "    dm = - 2*np.sum((Y_train - y_pred)*X_train)/len(Y_train)\n",
    "    dc = - 2*np.sum((Y_train - y_pred)*1)/len(Y_train)\n",
    "    \n",
    "    m += - LEARNING_RATE * dm  \n",
    "    c += - LEARNING_RATE * dc"
   ]
  },
  {
   "cell_type": "markdown",
   "metadata": {},
   "source": [
    "### Predictions"
   ]
  },
  {
   "cell_type": "code",
   "execution_count": 49,
   "metadata": {},
   "outputs": [],
   "source": [
    "pred_train = m*X_train+c \n",
    "pred_test = m*X_test+c"
   ]
  },
  {
   "cell_type": "code",
   "execution_count": 50,
   "metadata": {},
   "outputs": [],
   "source": [
    "#Error\n",
    "train_error = np.mean((Y_train-pred_train)**2)\n",
    "test_error = np.mean((Y_test-pred_test)**2)"
   ]
  },
  {
   "cell_type": "code",
   "execution_count": 51,
   "metadata": {},
   "outputs": [
    {
     "name": "stdout",
     "output_type": "stream",
     "text": [
      "Train Data Error : 0.2268618201135876 \n",
      "Test Data Error : 0.26140836267113876\n"
     ]
    }
   ],
   "source": [
    "print(f'Train Data Error : {train_error} \\nTest Data Error : {test_error}')"
   ]
  },
  {
   "cell_type": "code",
   "execution_count": null,
   "metadata": {},
   "outputs": [],
   "source": []
  },
  {
   "cell_type": "code",
   "execution_count": 52,
   "metadata": {},
   "outputs": [
    {
     "data": {
      "image/png": "[encoded data removed]",
      "text/plain": [
       "<Figure size 1080x360 with 2 Axes>"
      ]
     },
     "metadata": {
      "needs_background": "light"
     },
     "output_type": "display_data"
    }
   ],
   "source": [
    "plt.figure(figsize=(15,5))\n",
    "\n",
    "plt.subplot(1,2,1)\n",
    "plt.scatter(X_train,Y_train, label = 'Y_train')\n",
    "plt.plot(X_train,pred_train,color='red', label='Model')\n",
    "plt.legend()\n",
    "\n",
    "plt.subplot(1,2,2)\n",
    "plt.scatter(X_test,Y_test, label = 'Y_test')\n",
    "plt.plot(X_test,pred_test,color='red', label='Model')\n",
    "plt.legend()\n",
    "\n",
    "plt.show()"
   ]
  },
  {
   "cell_type": "code",
   "execution_count": 53,
   "metadata": {},
   "outputs": [
    {
     "name": "stdout",
     "output_type": "stream",
     "text": [
      "[actual] y = 3.2X + noise\n",
      "[model] y_hat = 3.2X + 102.0\n"
     ]
    }
   ],
   "source": [
    "# Unscale weights\n",
    "m_unscaled = m * (Y.std()/X.std())\n",
    "c_unscaled = c * Y.std() + Y.mean() - np.sum(m_unscaled*X.mean())\n",
    "print (\"[actual] y = 3.2X + noise\")\n",
    "print (f\"[model] y_hat = {m_unscaled[0][0]:.1f}X + {c_unscaled[0][0]:.1f}\")"
   ]
  },
  {
   "cell_type": "markdown",
   "metadata": {},
   "source": [
    "--------\n",
    "### Linear Algebra code with Numpy Attributed to : <font color= 'orange'>Goku Mohandas <br>\n",
    "---------"
   ]
  },
  {
   "cell_type": "code",
   "execution_count": null,
   "metadata": {},
   "outputs": [],
   "source": []
  },
  {
   "cell_type": "markdown",
   "metadata": {},
   "source": [
    "### Now using sklearn"
   ]
  },
  {
   "cell_type": "code",
   "execution_count": 54,
   "metadata": {},
   "outputs": [],
   "source": [
    "from sklearn.linear_model import LinearRegression"
   ]
  },
  {
   "cell_type": "code",
   "execution_count": 55,
   "metadata": {},
   "outputs": [
    {
     "data": {
      "text/plain": [
       "LinearRegression()"
      ]
     },
     "execution_count": 55,
     "metadata": {},
     "output_type": "execute_result"
    }
   ],
   "source": [
    "model = LinearRegression()\n",
    "model.fit(X_train,Y_train)"
   ]
  },
  {
   "cell_type": "code",
   "execution_count": 56,
   "metadata": {},
   "outputs": [
    {
     "data": {
      "text/plain": [
       "array([[0.87709353]])"
      ]
     },
     "execution_count": 56,
     "metadata": {},
     "output_type": "execute_result"
    }
   ],
   "source": [
    "model.coef_"
   ]
  },
  {
   "cell_type": "code",
   "execution_count": 57,
   "metadata": {},
   "outputs": [
    {
     "data": {
      "text/plain": [
       "0.0"
      ]
     },
     "execution_count": 57,
     "metadata": {},
     "output_type": "execute_result"
    }
   ],
   "source": [
    "round(model.intercept_[0])"
   ]
  },
  {
   "cell_type": "code",
   "execution_count": 58,
   "metadata": {},
   "outputs": [],
   "source": [
    "#predict\n",
    "sklearn_test_pred = model.predict(X_test)"
   ]
  },
  {
   "cell_type": "code",
   "execution_count": 59,
   "metadata": {},
   "outputs": [],
   "source": [
    "from sklearn.metrics import mean_squared_error as mse # mse is just an alias"
   ]
  },
  {
   "cell_type": "code",
   "execution_count": 60,
   "metadata": {},
   "outputs": [
    {
     "data": {
      "text/plain": [
       "0.26140836267884165"
      ]
     },
     "execution_count": 60,
     "metadata": {},
     "output_type": "execute_result"
    }
   ],
   "source": [
    "mse(Y_test,sklearn_test_pred)"
   ]
  },
  {
   "cell_type": "markdown",
   "metadata": {},
   "source": [
    "_"
   ]
  },
  {
   "cell_type": "markdown",
   "metadata": {},
   "source": [
    "_"
   ]
  },
  {
   "cell_type": "markdown",
   "metadata": {},
   "source": [
    "_"
   ]
  },
  {
   "cell_type": "markdown",
   "metadata": {},
   "source": [
    "# MULTIVARIATE LINEAR REGRESSION\n",
    "#### We will use ordinary least squares method"
   ]
  },
  {
   "cell_type": "code",
   "execution_count": 61,
   "metadata": {},
   "outputs": [
    {
     "data": {
      "text/html": [
       "<div>\n",
       "<style scoped>\n",
       "    .dataframe tbody tr th:only-of-type {\n",
       "        vertical-align: middle;\n",
       "    }\n",
       "\n",
       "    .dataframe tbody tr th {\n",
       "        vertical-align: top;\n",
       "    }\n",
       "\n",
       "    .dataframe thead th {\n",
       "        text-align: right;\n",
       "    }\n",
       "</style>\n",
       "<table border=\"1\" class=\"dataframe\">\n",
       "  <thead>\n",
       "    <tr style=\"text-align: right;\">\n",
       "      <th></th>\n",
       "      <th>GNP.deflator</th>\n",
       "      <th>GNP</th>\n",
       "      <th>Unemployed</th>\n",
       "      <th>Armed.Forces</th>\n",
       "      <th>Population</th>\n",
       "      <th>Year</th>\n",
       "      <th>Employed</th>\n",
       "    </tr>\n",
       "  </thead>\n",
       "  <tbody>\n",
       "    <tr>\n",
       "      <th>1947</th>\n",
       "      <td>83.0</td>\n",
       "      <td>234.289</td>\n",
       "      <td>235.6</td>\n",
       "      <td>159.0</td>\n",
       "      <td>107.608</td>\n",
       "      <td>1947</td>\n",
       "      <td>60.323</td>\n",
       "    </tr>\n",
       "    <tr>\n",
       "      <th>1948</th>\n",
       "      <td>88.5</td>\n",
       "      <td>259.426</td>\n",
       "      <td>232.5</td>\n",
       "      <td>145.6</td>\n",
       "      <td>108.632</td>\n",
       "      <td>1948</td>\n",
       "      <td>61.122</td>\n",
       "    </tr>\n",
       "    <tr>\n",
       "      <th>1949</th>\n",
       "      <td>88.2</td>\n",
       "      <td>258.054</td>\n",
       "      <td>368.2</td>\n",
       "      <td>161.6</td>\n",
       "      <td>109.773</td>\n",
       "      <td>1949</td>\n",
       "      <td>60.171</td>\n",
       "    </tr>\n",
       "    <tr>\n",
       "      <th>1950</th>\n",
       "      <td>89.5</td>\n",
       "      <td>284.599</td>\n",
       "      <td>335.1</td>\n",
       "      <td>165.0</td>\n",
       "      <td>110.929</td>\n",
       "      <td>1950</td>\n",
       "      <td>61.187</td>\n",
       "    </tr>\n",
       "    <tr>\n",
       "      <th>1951</th>\n",
       "      <td>96.2</td>\n",
       "      <td>328.975</td>\n",
       "      <td>209.9</td>\n",
       "      <td>309.9</td>\n",
       "      <td>112.075</td>\n",
       "      <td>1951</td>\n",
       "      <td>63.221</td>\n",
       "    </tr>\n",
       "  </tbody>\n",
       "</table>\n",
       "</div>"
      ],
      "text/plain": [
       "      GNP.deflator      GNP  Unemployed  Armed.Forces  Population  Year  \\\n",
       "1947          83.0  234.289       235.6         159.0     107.608  1947   \n",
       "1948          88.5  259.426       232.5         145.6     108.632  1948   \n",
       "1949          88.2  258.054       368.2         161.6     109.773  1949   \n",
       "1950          89.5  284.599       335.1         165.0     110.929  1950   \n",
       "1951          96.2  328.975       209.9         309.9     112.075  1951   \n",
       "\n",
       "      Employed  \n",
       "1947    60.323  \n",
       "1948    61.122  \n",
       "1949    60.171  \n",
       "1950    61.187  \n",
       "1951    63.221  "
      ]
     },
     "execution_count": 61,
     "metadata": {},
     "output_type": "execute_result"
    }
   ],
   "source": [
    "df = pd.read_csv('https://vincentarelbundock.github.io/Rdatasets/csv/datasets/longley.csv', index_col=0) \n",
    "df.head()"
   ]
  },
  {
   "cell_type": "code",
   "execution_count": 62,
   "metadata": {},
   "outputs": [
    {
     "name": "stderr",
     "output_type": "stream",
     "text": [
      "C:\\Users\\Aseta\\Anaconda3\\lib\\site-packages\\statsmodels\\tools\\_testing.py:19: FutureWarning: pandas.util.testing is deprecated. Use the functions in the public API at pandas.testing instead.\n",
      "  import pandas.util.testing as tm\n"
     ]
    }
   ],
   "source": [
    "import statsmodels.api as sm"
   ]
  },
  {
   "cell_type": "code",
   "execution_count": 63,
   "metadata": {},
   "outputs": [
    {
     "data": {
      "text/html": [
       "<div>\n",
       "<style scoped>\n",
       "    .dataframe tbody tr th:only-of-type {\n",
       "        vertical-align: middle;\n",
       "    }\n",
       "\n",
       "    .dataframe tbody tr th {\n",
       "        vertical-align: top;\n",
       "    }\n",
       "\n",
       "    .dataframe thead th {\n",
       "        text-align: right;\n",
       "    }\n",
       "</style>\n",
       "<table border=\"1\" class=\"dataframe\">\n",
       "  <thead>\n",
       "    <tr style=\"text-align: right;\">\n",
       "      <th></th>\n",
       "      <th>const</th>\n",
       "      <th>GNP.deflator</th>\n",
       "      <th>GNP</th>\n",
       "      <th>Unemployed</th>\n",
       "      <th>Armed.Forces</th>\n",
       "      <th>Population</th>\n",
       "      <th>Year</th>\n",
       "    </tr>\n",
       "  </thead>\n",
       "  <tbody>\n",
       "    <tr>\n",
       "      <th>1947</th>\n",
       "      <td>1.0</td>\n",
       "      <td>83.0</td>\n",
       "      <td>234.289</td>\n",
       "      <td>235.6</td>\n",
       "      <td>159.0</td>\n",
       "      <td>107.608</td>\n",
       "      <td>1947</td>\n",
       "    </tr>\n",
       "    <tr>\n",
       "      <th>1948</th>\n",
       "      <td>1.0</td>\n",
       "      <td>88.5</td>\n",
       "      <td>259.426</td>\n",
       "      <td>232.5</td>\n",
       "      <td>145.6</td>\n",
       "      <td>108.632</td>\n",
       "      <td>1948</td>\n",
       "    </tr>\n",
       "    <tr>\n",
       "      <th>1949</th>\n",
       "      <td>1.0</td>\n",
       "      <td>88.2</td>\n",
       "      <td>258.054</td>\n",
       "      <td>368.2</td>\n",
       "      <td>161.6</td>\n",
       "      <td>109.773</td>\n",
       "      <td>1949</td>\n",
       "    </tr>\n",
       "    <tr>\n",
       "      <th>1950</th>\n",
       "      <td>1.0</td>\n",
       "      <td>89.5</td>\n",
       "      <td>284.599</td>\n",
       "      <td>335.1</td>\n",
       "      <td>165.0</td>\n",
       "      <td>110.929</td>\n",
       "      <td>1950</td>\n",
       "    </tr>\n",
       "    <tr>\n",
       "      <th>1951</th>\n",
       "      <td>1.0</td>\n",
       "      <td>96.2</td>\n",
       "      <td>328.975</td>\n",
       "      <td>209.9</td>\n",
       "      <td>309.9</td>\n",
       "      <td>112.075</td>\n",
       "      <td>1951</td>\n",
       "    </tr>\n",
       "  </tbody>\n",
       "</table>\n",
       "</div>"
      ],
      "text/plain": [
       "      const  GNP.deflator      GNP  Unemployed  Armed.Forces  Population  Year\n",
       "1947    1.0          83.0  234.289       235.6         159.0     107.608  1947\n",
       "1948    1.0          88.5  259.426       232.5         145.6     108.632  1948\n",
       "1949    1.0          88.2  258.054       368.2         161.6     109.773  1949\n",
       "1950    1.0          89.5  284.599       335.1         165.0     110.929  1950\n",
       "1951    1.0          96.2  328.975       209.9         309.9     112.075  1951"
      ]
     },
     "execution_count": 63,
     "metadata": {},
     "output_type": "execute_result"
    }
   ],
   "source": [
    "y = df.Employed  # response\n",
    "X = df[['GNP.deflator','GNP','Unemployed','Armed.Forces','Population','Year']]  # predictor\n",
    "X = sm.add_constant(X)  # Adds a constant term to the predictor\n",
    "X.head()"
   ]
  },
  {
   "cell_type": "code",
   "execution_count": 64,
   "metadata": {},
   "outputs": [
    {
     "name": "stderr",
     "output_type": "stream",
     "text": [
      "C:\\Users\\Aseta\\Anaconda3\\lib\\site-packages\\scipy\\stats\\stats.py:1450: UserWarning: kurtosistest only valid for n>=20 ... continuing anyway, n=16\n",
      "  \"anyway, n=%i\" % int(n))\n"
     ]
    },
    {
     "data": {
      "text/html": [
       "<table class=\"simpletable\">\n",
       "<caption>OLS Regression Results</caption>\n",
       "<tr>\n",
       "  <th>Dep. Variable:</th>        <td>Employed</td>     <th>  R-squared:         </th> <td>   0.995</td>\n",
       "</tr>\n",
       "<tr>\n",
       "  <th>Model:</th>                   <td>OLS</td>       <th>  Adj. R-squared:    </th> <td>   0.992</td>\n",
       "</tr>\n",
       "<tr>\n",
       "  <th>Method:</th>             <td>Least Squares</td>  <th>  F-statistic:       </th> <td>   330.3</td>\n",
       "</tr>\n",
       "<tr>\n",
       "  <th>Date:</th>             <td>Thu, 16 Sep 2021</td> <th>  Prob (F-statistic):</th> <td>4.98e-10</td>\n",
       "</tr>\n",
       "<tr>\n",
       "  <th>Time:</th>                 <td>14:38:10</td>     <th>  Log-Likelihood:    </th> <td> 0.90665</td>\n",
       "</tr>\n",
       "<tr>\n",
       "  <th>No. Observations:</th>      <td>    16</td>      <th>  AIC:               </th> <td>   12.19</td>\n",
       "</tr>\n",
       "<tr>\n",
       "  <th>Df Residuals:</th>          <td>     9</td>      <th>  BIC:               </th> <td>   17.59</td>\n",
       "</tr>\n",
       "<tr>\n",
       "  <th>Df Model:</th>              <td>     6</td>      <th>                     </th>     <td> </td>   \n",
       "</tr>\n",
       "<tr>\n",
       "  <th>Covariance Type:</th>      <td>nonrobust</td>    <th>                     </th>     <td> </td>   \n",
       "</tr>\n",
       "</table>\n",
       "<table class=\"simpletable\">\n",
       "<tr>\n",
       "        <td></td>          <th>coef</th>     <th>std err</th>      <th>t</th>      <th>P>|t|</th>  <th>[0.025</th>    <th>0.975]</th>  \n",
       "</tr>\n",
       "<tr>\n",
       "  <th>const</th>        <td>-3482.2586</td> <td>  890.420</td> <td>   -3.911</td> <td> 0.004</td> <td>-5496.529</td> <td>-1467.988</td>\n",
       "</tr>\n",
       "<tr>\n",
       "  <th>GNP.deflator</th> <td>    0.0151</td> <td>    0.085</td> <td>    0.177</td> <td> 0.863</td> <td>   -0.177</td> <td>    0.207</td>\n",
       "</tr>\n",
       "<tr>\n",
       "  <th>GNP</th>          <td>   -0.0358</td> <td>    0.033</td> <td>   -1.070</td> <td> 0.313</td> <td>   -0.112</td> <td>    0.040</td>\n",
       "</tr>\n",
       "<tr>\n",
       "  <th>Unemployed</th>   <td>   -0.0202</td> <td>    0.005</td> <td>   -4.136</td> <td> 0.003</td> <td>   -0.031</td> <td>   -0.009</td>\n",
       "</tr>\n",
       "<tr>\n",
       "  <th>Armed.Forces</th> <td>   -0.0103</td> <td>    0.002</td> <td>   -4.822</td> <td> 0.001</td> <td>   -0.015</td> <td>   -0.005</td>\n",
       "</tr>\n",
       "<tr>\n",
       "  <th>Population</th>   <td>   -0.0511</td> <td>    0.226</td> <td>   -0.226</td> <td> 0.826</td> <td>   -0.563</td> <td>    0.460</td>\n",
       "</tr>\n",
       "<tr>\n",
       "  <th>Year</th>         <td>    1.8292</td> <td>    0.455</td> <td>    4.016</td> <td> 0.003</td> <td>    0.799</td> <td>    2.860</td>\n",
       "</tr>\n",
       "</table>\n",
       "<table class=\"simpletable\">\n",
       "<tr>\n",
       "  <th>Omnibus:</th>       <td> 0.749</td> <th>  Durbin-Watson:     </th> <td>   2.559</td>\n",
       "</tr>\n",
       "<tr>\n",
       "  <th>Prob(Omnibus):</th> <td> 0.688</td> <th>  Jarque-Bera (JB):  </th> <td>   0.684</td>\n",
       "</tr>\n",
       "<tr>\n",
       "  <th>Skew:</th>          <td> 0.420</td> <th>  Prob(JB):          </th> <td>   0.710</td>\n",
       "</tr>\n",
       "<tr>\n",
       "  <th>Kurtosis:</th>      <td> 2.434</td> <th>  Cond. No.          </th> <td>2.38e+07</td>\n",
       "</tr>\n",
       "</table><br/><br/>Warnings:<br/>[1] Standard Errors assume that the covariance matrix of the errors is correctly specified.<br/>[2] The condition number is large, 2.38e+07. This might indicate that there are<br/>strong multicollinearity or other numerical problems."
      ],
      "text/plain": [
       "<class 'statsmodels.iolib.summary.Summary'>\n",
       "\"\"\"\n",
       "                            OLS Regression Results                            \n",
       "==============================================================================\n",
       "Dep. Variable:               Employed   R-squared:                       0.995\n",
       "Model:                            OLS   Adj. R-squared:                  0.992\n",
       "Method:                 Least Squares   F-statistic:                     330.3\n",
       "Date:                Thu, 16 Sep 2021   Prob (F-statistic):           4.98e-10\n",
       "Time:                        14:38:10   Log-Likelihood:                0.90665\n",
       "No. Observations:                  16   AIC:                             12.19\n",
       "Df Residuals:                       9   BIC:                             17.59\n",
       "Df Model:                           6                                         \n",
       "Covariance Type:            nonrobust                                         \n",
       "================================================================================\n",
       "                   coef    std err          t      P>|t|      [0.025      0.975]\n",
       "--------------------------------------------------------------------------------\n",
       "const        -3482.2586    890.420     -3.911      0.004   -5496.529   -1467.988\n",
       "GNP.deflator     0.0151      0.085      0.177      0.863      -0.177       0.207\n",
       "GNP             -0.0358      0.033     -1.070      0.313      -0.112       0.040\n",
       "Unemployed      -0.0202      0.005     -4.136      0.003      -0.031      -0.009\n",
       "Armed.Forces    -0.0103      0.002     -4.822      0.001      -0.015      -0.005\n",
       "Population      -0.0511      0.226     -0.226      0.826      -0.563       0.460\n",
       "Year             1.8292      0.455      4.016      0.003       0.799       2.860\n",
       "==============================================================================\n",
       "Omnibus:                        0.749   Durbin-Watson:                   2.559\n",
       "Prob(Omnibus):                  0.688   Jarque-Bera (JB):                0.684\n",
       "Skew:                           0.420   Prob(JB):                        0.710\n",
       "Kurtosis:                       2.434   Cond. No.                     2.38e+07\n",
       "==============================================================================\n",
       "\n",
       "Warnings:\n",
       "[1] Standard Errors assume that the covariance matrix of the errors is correctly specified.\n",
       "[2] The condition number is large, 2.38e+07. This might indicate that there are\n",
       "strong multicollinearity or other numerical problems.\n",
       "\"\"\""
      ]
     },
     "execution_count": 64,
     "metadata": {},
     "output_type": "execute_result"
    }
   ],
   "source": [
    "est=sm.OLS(y, X) \n",
    "est = est.fit()\n",
    "est.summary()"
   ]
  },
  {
   "cell_type": "code",
   "execution_count": 65,
   "metadata": {},
   "outputs": [
    {
     "data": {
      "text/plain": [
       "const          -3482.258635\n",
       "GNP.deflator       0.015062\n",
       "GNP               -0.035819\n",
       "Unemployed        -0.020202\n",
       "Armed.Forces      -0.010332\n",
       "Population        -0.051104\n",
       "Year               1.829151\n",
       "dtype: float64"
      ]
     },
     "execution_count": 65,
     "metadata": {},
     "output_type": "execute_result"
    }
   ],
   "source": [
    "est.params"
   ]
  },
  {
   "cell_type": "code",
   "execution_count": null,
   "metadata": {},
   "outputs": [],
   "source": []
  },
  {
   "cell_type": "markdown",
   "metadata": {},
   "source": [
    "| Element | Description |\n",
    "|---------|------------|\n",
    "|Dep. Variable | Which variable is the response in the model |\n",
    "|Model |\tWhat model you are using in the fit |\n",
    "|Method | How the parameters of the model were calculated |\n",
    "|No. Observations | The number of observations (examples) |\n",
    "|DF Residuals | Degrees of freedom of the residuals. Number of observations – number of parameters |\n",
    "|DF Model | Number of parameters in the model (not including the constant term if present) |\n",
    "|R-squared | The coefficient of determination. A statistical measure of how well the regression line approximates the real data points |\n",
    "|Adj. R-squared\t| The above value adjusted based on the number of observations and the degrees-of-freedom of the residuals |\n",
    "|F-statistic | A measure how significant the fit is. The mean squared error of the model divided by the mean squared error of the residuals | \n",
    "|Prob (F-statistic)\t| The probability that you would get the above statistic, given the null hypothesis that they are unrelated | \n",
    "|Log-likelihood\t| The log of the likelihood function. | \n",
    "|AIC | The Akaike Information Criterion. Adjusts the log-likelihood based on the number of observations and the complexity of the model. |\n",
    "|BIC | The Bayesian Information Criterion. Similar to the AIC, but has a higher penalty for models with more parameters. |\n",
    "| |\tThe name of the term in the model |\n",
    "|coef | The estimated value of the coefficient |\n",
    "|std err | The basic standard error of the estimate of the coefficient. More sophisticated errors are also available. | \n",
    "|t |\tThe t-statistic value. This is a measure of how statistically significant the coefficient is. |\n",
    "|P > |t| | P-value that the null-hypothesis that the coefficient = 0 is true. If it is less than the confidence level, often 0.05, it indicates that  there is a statistically significant relationship between the term and the response.|\n",
    "|[95.0% Conf. Interval]\t| The lower and upper values of the 95% confidence interval |\n",
    "| Skewness | A measure of the symmetry of the data about the mean. Normally-distributed errors should be symmetrically distributed about the mean (equal amounts above and below the line). |\n",
    "|Kurtosis |\tA measure of the shape of the distribution. Compares the amount of data close to the mean with those far away from the mean (in the tails). |\n",
    "|Omnibus |\tD’Angostino’s test. It provides a combined statistical test for the presence of skewness and kurtosis. |\n",
    "| Prob(Omnibus) |\tThe above statistic turned into a probability |\n",
    "| Jarque-Bera |\tA different test of the skewness and kurtosis |\n",
    "| Prob (JB) | The above statistic turned into a probability |\n",
    "| Durbin-Watson\t| A test for the presence of autocorrelation (that the errors are not independent.) Often important in time-series analysis |\n",
    "| Cond. No | A test for multicollinearity (if in a fit with multiple parameters, the parameters are related with each other). |\n"
   ]
  },
  {
   "cell_type": "code",
   "execution_count": 66,
   "metadata": {},
   "outputs": [
    {
     "data": {
      "text/html": [
       "<div>\n",
       "<style scoped>\n",
       "    .dataframe tbody tr th:only-of-type {\n",
       "        vertical-align: middle;\n",
       "    }\n",
       "\n",
       "    .dataframe tbody tr th {\n",
       "        vertical-align: top;\n",
       "    }\n",
       "\n",
       "    .dataframe thead th {\n",
       "        text-align: right;\n",
       "    }\n",
       "</style>\n",
       "<table border=\"1\" class=\"dataframe\">\n",
       "  <thead>\n",
       "    <tr style=\"text-align: right;\">\n",
       "      <th></th>\n",
       "      <th>const</th>\n",
       "      <th>GNP.deflator</th>\n",
       "      <th>GNP</th>\n",
       "      <th>Unemployed</th>\n",
       "      <th>Armed.Forces</th>\n",
       "      <th>Population</th>\n",
       "      <th>Year</th>\n",
       "    </tr>\n",
       "  </thead>\n",
       "  <tbody>\n",
       "    <tr>\n",
       "      <th>1947</th>\n",
       "      <td>1.0</td>\n",
       "      <td>83.0</td>\n",
       "      <td>234.289</td>\n",
       "      <td>235.6</td>\n",
       "      <td>159.0</td>\n",
       "      <td>107.608</td>\n",
       "      <td>1947</td>\n",
       "    </tr>\n",
       "    <tr>\n",
       "      <th>1948</th>\n",
       "      <td>1.0</td>\n",
       "      <td>88.5</td>\n",
       "      <td>259.426</td>\n",
       "      <td>232.5</td>\n",
       "      <td>145.6</td>\n",
       "      <td>108.632</td>\n",
       "      <td>1948</td>\n",
       "    </tr>\n",
       "    <tr>\n",
       "      <th>1949</th>\n",
       "      <td>1.0</td>\n",
       "      <td>88.2</td>\n",
       "      <td>258.054</td>\n",
       "      <td>368.2</td>\n",
       "      <td>161.6</td>\n",
       "      <td>109.773</td>\n",
       "      <td>1949</td>\n",
       "    </tr>\n",
       "    <tr>\n",
       "      <th>1950</th>\n",
       "      <td>1.0</td>\n",
       "      <td>89.5</td>\n",
       "      <td>284.599</td>\n",
       "      <td>335.1</td>\n",
       "      <td>165.0</td>\n",
       "      <td>110.929</td>\n",
       "      <td>1950</td>\n",
       "    </tr>\n",
       "    <tr>\n",
       "      <th>1951</th>\n",
       "      <td>1.0</td>\n",
       "      <td>96.2</td>\n",
       "      <td>328.975</td>\n",
       "      <td>209.9</td>\n",
       "      <td>309.9</td>\n",
       "      <td>112.075</td>\n",
       "      <td>1951</td>\n",
       "    </tr>\n",
       "    <tr>\n",
       "      <th>1952</th>\n",
       "      <td>1.0</td>\n",
       "      <td>98.1</td>\n",
       "      <td>346.999</td>\n",
       "      <td>193.2</td>\n",
       "      <td>359.4</td>\n",
       "      <td>113.270</td>\n",
       "      <td>1952</td>\n",
       "    </tr>\n",
       "    <tr>\n",
       "      <th>1953</th>\n",
       "      <td>1.0</td>\n",
       "      <td>99.0</td>\n",
       "      <td>365.385</td>\n",
       "      <td>187.0</td>\n",
       "      <td>354.7</td>\n",
       "      <td>115.094</td>\n",
       "      <td>1953</td>\n",
       "    </tr>\n",
       "    <tr>\n",
       "      <th>1954</th>\n",
       "      <td>1.0</td>\n",
       "      <td>100.0</td>\n",
       "      <td>363.112</td>\n",
       "      <td>357.8</td>\n",
       "      <td>335.0</td>\n",
       "      <td>116.219</td>\n",
       "      <td>1954</td>\n",
       "    </tr>\n",
       "    <tr>\n",
       "      <th>1955</th>\n",
       "      <td>1.0</td>\n",
       "      <td>101.2</td>\n",
       "      <td>397.469</td>\n",
       "      <td>290.4</td>\n",
       "      <td>304.8</td>\n",
       "      <td>117.388</td>\n",
       "      <td>1955</td>\n",
       "    </tr>\n",
       "    <tr>\n",
       "      <th>1956</th>\n",
       "      <td>1.0</td>\n",
       "      <td>104.6</td>\n",
       "      <td>419.180</td>\n",
       "      <td>282.2</td>\n",
       "      <td>285.7</td>\n",
       "      <td>118.734</td>\n",
       "      <td>1956</td>\n",
       "    </tr>\n",
       "    <tr>\n",
       "      <th>1957</th>\n",
       "      <td>1.0</td>\n",
       "      <td>108.4</td>\n",
       "      <td>442.769</td>\n",
       "      <td>293.6</td>\n",
       "      <td>279.8</td>\n",
       "      <td>120.445</td>\n",
       "      <td>1957</td>\n",
       "    </tr>\n",
       "    <tr>\n",
       "      <th>1958</th>\n",
       "      <td>1.0</td>\n",
       "      <td>110.8</td>\n",
       "      <td>444.546</td>\n",
       "      <td>468.1</td>\n",
       "      <td>263.7</td>\n",
       "      <td>121.950</td>\n",
       "      <td>1958</td>\n",
       "    </tr>\n",
       "    <tr>\n",
       "      <th>1959</th>\n",
       "      <td>1.0</td>\n",
       "      <td>112.6</td>\n",
       "      <td>482.704</td>\n",
       "      <td>381.3</td>\n",
       "      <td>255.2</td>\n",
       "      <td>123.366</td>\n",
       "      <td>1959</td>\n",
       "    </tr>\n",
       "    <tr>\n",
       "      <th>1960</th>\n",
       "      <td>1.0</td>\n",
       "      <td>114.2</td>\n",
       "      <td>502.601</td>\n",
       "      <td>393.1</td>\n",
       "      <td>251.4</td>\n",
       "      <td>125.368</td>\n",
       "      <td>1960</td>\n",
       "    </tr>\n",
       "    <tr>\n",
       "      <th>1961</th>\n",
       "      <td>1.0</td>\n",
       "      <td>115.7</td>\n",
       "      <td>518.173</td>\n",
       "      <td>480.6</td>\n",
       "      <td>257.2</td>\n",
       "      <td>127.852</td>\n",
       "      <td>1961</td>\n",
       "    </tr>\n",
       "    <tr>\n",
       "      <th>1962</th>\n",
       "      <td>1.0</td>\n",
       "      <td>116.9</td>\n",
       "      <td>554.894</td>\n",
       "      <td>400.7</td>\n",
       "      <td>282.7</td>\n",
       "      <td>130.081</td>\n",
       "      <td>1962</td>\n",
       "    </tr>\n",
       "  </tbody>\n",
       "</table>\n",
       "</div>"
      ],
      "text/plain": [
       "      const  GNP.deflator      GNP  Unemployed  Armed.Forces  Population  Year\n",
       "1947    1.0          83.0  234.289       235.6         159.0     107.608  1947\n",
       "1948    1.0          88.5  259.426       232.5         145.6     108.632  1948\n",
       "1949    1.0          88.2  258.054       368.2         161.6     109.773  1949\n",
       "1950    1.0          89.5  284.599       335.1         165.0     110.929  1950\n",
       "1951    1.0          96.2  328.975       209.9         309.9     112.075  1951\n",
       "1952    1.0          98.1  346.999       193.2         359.4     113.270  1952\n",
       "1953    1.0          99.0  365.385       187.0         354.7     115.094  1953\n",
       "1954    1.0         100.0  363.112       357.8         335.0     116.219  1954\n",
       "1955    1.0         101.2  397.469       290.4         304.8     117.388  1955\n",
       "1956    1.0         104.6  419.180       282.2         285.7     118.734  1956\n",
       "1957    1.0         108.4  442.769       293.6         279.8     120.445  1957\n",
       "1958    1.0         110.8  444.546       468.1         263.7     121.950  1958\n",
       "1959    1.0         112.6  482.704       381.3         255.2     123.366  1959\n",
       "1960    1.0         114.2  502.601       393.1         251.4     125.368  1960\n",
       "1961    1.0         115.7  518.173       480.6         257.2     127.852  1961\n",
       "1962    1.0         116.9  554.894       400.7         282.7     130.081  1962"
      ]
     },
     "execution_count": 66,
     "metadata": {},
     "output_type": "execute_result"
    }
   ],
   "source": [
    "X"
   ]
  },
  {
   "cell_type": "code",
   "execution_count": 67,
   "metadata": {},
   "outputs": [
    {
     "data": {
      "text/html": [
       "<div>\n",
       "<style scoped>\n",
       "    .dataframe tbody tr th:only-of-type {\n",
       "        vertical-align: middle;\n",
       "    }\n",
       "\n",
       "    .dataframe tbody tr th {\n",
       "        vertical-align: top;\n",
       "    }\n",
       "\n",
       "    .dataframe thead th {\n",
       "        text-align: right;\n",
       "    }\n",
       "</style>\n",
       "<table border=\"1\" class=\"dataframe\">\n",
       "  <thead>\n",
       "    <tr style=\"text-align: right;\">\n",
       "      <th></th>\n",
       "      <th>const</th>\n",
       "      <th>GNP.deflator</th>\n",
       "      <th>GNP</th>\n",
       "      <th>Unemployed</th>\n",
       "      <th>Armed.Forces</th>\n",
       "      <th>Population</th>\n",
       "      <th>Year</th>\n",
       "    </tr>\n",
       "  </thead>\n",
       "  <tbody>\n",
       "    <tr>\n",
       "      <th>1947</th>\n",
       "      <td>-3482.258635</td>\n",
       "      <td>1.250135</td>\n",
       "      <td>-8.392040</td>\n",
       "      <td>-4.759661</td>\n",
       "      <td>-1.642831</td>\n",
       "      <td>-5.499211</td>\n",
       "      <td>3561.357902</td>\n",
       "    </tr>\n",
       "    <tr>\n",
       "      <th>1948</th>\n",
       "      <td>-3482.258635</td>\n",
       "      <td>1.332976</td>\n",
       "      <td>-9.292426</td>\n",
       "      <td>-4.697034</td>\n",
       "      <td>-1.504378</td>\n",
       "      <td>-5.551541</td>\n",
       "      <td>3563.187053</td>\n",
       "    </tr>\n",
       "    <tr>\n",
       "      <th>1949</th>\n",
       "      <td>-3482.258635</td>\n",
       "      <td>1.328457</td>\n",
       "      <td>-9.243282</td>\n",
       "      <td>-7.438486</td>\n",
       "      <td>-1.669695</td>\n",
       "      <td>-5.609851</td>\n",
       "      <td>3565.016205</td>\n",
       "    </tr>\n",
       "    <tr>\n",
       "      <th>1950</th>\n",
       "      <td>-3482.258635</td>\n",
       "      <td>1.348038</td>\n",
       "      <td>-10.194103</td>\n",
       "      <td>-6.769790</td>\n",
       "      <td>-1.704824</td>\n",
       "      <td>-5.668927</td>\n",
       "      <td>3566.845356</td>\n",
       "    </tr>\n",
       "    <tr>\n",
       "      <th>1951</th>\n",
       "      <td>-3482.258635</td>\n",
       "      <td>1.448952</td>\n",
       "      <td>-11.783615</td>\n",
       "      <td>-4.240462</td>\n",
       "      <td>-3.201970</td>\n",
       "      <td>-5.727493</td>\n",
       "      <td>3568.674507</td>\n",
       "    </tr>\n",
       "    <tr>\n",
       "      <th>1952</th>\n",
       "      <td>-3482.258635</td>\n",
       "      <td>1.477570</td>\n",
       "      <td>-12.429219</td>\n",
       "      <td>-3.903084</td>\n",
       "      <td>-3.713417</td>\n",
       "      <td>-5.788562</td>\n",
       "      <td>3570.503659</td>\n",
       "    </tr>\n",
       "    <tr>\n",
       "      <th>1953</th>\n",
       "      <td>-3482.258635</td>\n",
       "      <td>1.491125</td>\n",
       "      <td>-13.087791</td>\n",
       "      <td>-3.777830</td>\n",
       "      <td>-3.664856</td>\n",
       "      <td>-5.881776</td>\n",
       "      <td>3572.332810</td>\n",
       "    </tr>\n",
       "    <tr>\n",
       "      <th>1954</th>\n",
       "      <td>-3482.258635</td>\n",
       "      <td>1.506187</td>\n",
       "      <td>-13.006374</td>\n",
       "      <td>-7.228382</td>\n",
       "      <td>-3.461310</td>\n",
       "      <td>-5.939268</td>\n",
       "      <td>3574.161962</td>\n",
       "    </tr>\n",
       "    <tr>\n",
       "      <th>1955</th>\n",
       "      <td>-3482.258635</td>\n",
       "      <td>1.524261</td>\n",
       "      <td>-14.237013</td>\n",
       "      <td>-5.866747</td>\n",
       "      <td>-3.149275</td>\n",
       "      <td>-5.999009</td>\n",
       "      <td>3575.991113</td>\n",
       "    </tr>\n",
       "    <tr>\n",
       "      <th>1956</th>\n",
       "      <td>-3482.258635</td>\n",
       "      <td>1.575472</td>\n",
       "      <td>-15.014684</td>\n",
       "      <td>-5.701089</td>\n",
       "      <td>-2.951929</td>\n",
       "      <td>-6.067795</td>\n",
       "      <td>3577.820265</td>\n",
       "    </tr>\n",
       "    <tr>\n",
       "      <th>1957</th>\n",
       "      <td>-3482.258635</td>\n",
       "      <td>1.632707</td>\n",
       "      <td>-15.859622</td>\n",
       "      <td>-5.931395</td>\n",
       "      <td>-2.890969</td>\n",
       "      <td>-6.155234</td>\n",
       "      <td>3579.649416</td>\n",
       "    </tr>\n",
       "    <tr>\n",
       "      <th>1958</th>\n",
       "      <td>-3482.258635</td>\n",
       "      <td>1.668855</td>\n",
       "      <td>-15.923273</td>\n",
       "      <td>-9.456696</td>\n",
       "      <td>-2.724619</td>\n",
       "      <td>-6.232146</td>\n",
       "      <td>3581.478568</td>\n",
       "    </tr>\n",
       "    <tr>\n",
       "      <th>1959</th>\n",
       "      <td>-3482.258635</td>\n",
       "      <td>1.695967</td>\n",
       "      <td>-17.290061</td>\n",
       "      <td>-7.703136</td>\n",
       "      <td>-2.636795</td>\n",
       "      <td>-6.304509</td>\n",
       "      <td>3583.307719</td>\n",
       "    </tr>\n",
       "    <tr>\n",
       "      <th>1960</th>\n",
       "      <td>-3482.258635</td>\n",
       "      <td>1.720066</td>\n",
       "      <td>-18.002755</td>\n",
       "      <td>-7.941523</td>\n",
       "      <td>-2.597532</td>\n",
       "      <td>-6.406820</td>\n",
       "      <td>3585.136871</td>\n",
       "    </tr>\n",
       "    <tr>\n",
       "      <th>1961</th>\n",
       "      <td>-3482.258635</td>\n",
       "      <td>1.742659</td>\n",
       "      <td>-18.560532</td>\n",
       "      <td>-9.709224</td>\n",
       "      <td>-2.657460</td>\n",
       "      <td>-6.533762</td>\n",
       "      <td>3586.966022</td>\n",
       "    </tr>\n",
       "    <tr>\n",
       "      <th>1962</th>\n",
       "      <td>-3482.258635</td>\n",
       "      <td>1.760733</td>\n",
       "      <td>-19.875848</td>\n",
       "      <td>-8.095061</td>\n",
       "      <td>-2.920932</td>\n",
       "      <td>-6.647673</td>\n",
       "      <td>3588.795174</td>\n",
       "    </tr>\n",
       "  </tbody>\n",
       "</table>\n",
       "</div>"
      ],
      "text/plain": [
       "            const  GNP.deflator        GNP  Unemployed  Armed.Forces  \\\n",
       "1947 -3482.258635      1.250135  -8.392040   -4.759661     -1.642831   \n",
       "1948 -3482.258635      1.332976  -9.292426   -4.697034     -1.504378   \n",
       "1949 -3482.258635      1.328457  -9.243282   -7.438486     -1.669695   \n",
       "1950 -3482.258635      1.348038 -10.194103   -6.769790     -1.704824   \n",
       "1951 -3482.258635      1.448952 -11.783615   -4.240462     -3.201970   \n",
       "1952 -3482.258635      1.477570 -12.429219   -3.903084     -3.713417   \n",
       "1953 -3482.258635      1.491125 -13.087791   -3.777830     -3.664856   \n",
       "1954 -3482.258635      1.506187 -13.006374   -7.228382     -3.461310   \n",
       "1955 -3482.258635      1.524261 -14.237013   -5.866747     -3.149275   \n",
       "1956 -3482.258635      1.575472 -15.014684   -5.701089     -2.951929   \n",
       "1957 -3482.258635      1.632707 -15.859622   -5.931395     -2.890969   \n",
       "1958 -3482.258635      1.668855 -15.923273   -9.456696     -2.724619   \n",
       "1959 -3482.258635      1.695967 -17.290061   -7.703136     -2.636795   \n",
       "1960 -3482.258635      1.720066 -18.002755   -7.941523     -2.597532   \n",
       "1961 -3482.258635      1.742659 -18.560532   -9.709224     -2.657460   \n",
       "1962 -3482.258635      1.760733 -19.875848   -8.095061     -2.920932   \n",
       "\n",
       "      Population         Year  \n",
       "1947   -5.499211  3561.357902  \n",
       "1948   -5.551541  3563.187053  \n",
       "1949   -5.609851  3565.016205  \n",
       "1950   -5.668927  3566.845356  \n",
       "1951   -5.727493  3568.674507  \n",
       "1952   -5.788562  3570.503659  \n",
       "1953   -5.881776  3572.332810  \n",
       "1954   -5.939268  3574.161962  \n",
       "1955   -5.999009  3575.991113  \n",
       "1956   -6.067795  3577.820265  \n",
       "1957   -6.155234  3579.649416  \n",
       "1958   -6.232146  3581.478568  \n",
       "1959   -6.304509  3583.307719  \n",
       "1960   -6.406820  3585.136871  \n",
       "1961   -6.533762  3586.966022  \n",
       "1962   -6.647673  3588.795174  "
      ]
     },
     "execution_count": 67,
     "metadata": {},
     "output_type": "execute_result"
    }
   ],
   "source": [
    "X*est.params"
   ]
  },
  {
   "cell_type": "code",
   "execution_count": 68,
   "metadata": {},
   "outputs": [
    {
     "data": {
      "text/plain": [
       "1947    60.055660\n",
       "1948    61.216014\n",
       "1949    60.124713\n",
       "1950    61.597115\n",
       "1951    62.911285\n",
       "1952    63.888311\n",
       "1953    65.153049\n",
       "1954    63.774180\n",
       "1955    66.004695\n",
       "1956    67.401606\n",
       "1957    68.186269\n",
       "1958    66.552055\n",
       "1959    68.810550\n",
       "1960    69.649671\n",
       "1961    68.989068\n",
       "1962    70.757758\n",
       "dtype: float64"
      ]
     },
     "execution_count": 68,
     "metadata": {},
     "output_type": "execute_result"
    }
   ],
   "source": [
    "z = (X*est.params).sum(axis=1)\n",
    "z"
   ]
  },
  {
   "cell_type": "code",
   "execution_count": 69,
   "metadata": {},
   "outputs": [
    {
     "data": {
      "text/plain": [
       "1947    60.323\n",
       "1948    61.122\n",
       "1949    60.171\n",
       "1950    61.187\n",
       "1951    63.221\n",
       "1952    63.639\n",
       "1953    64.989\n",
       "1954    63.761\n",
       "1955    66.019\n",
       "1956    67.857\n",
       "1957    68.169\n",
       "1958    66.513\n",
       "1959    68.655\n",
       "1960    69.564\n",
       "1961    69.331\n",
       "1962    70.551\n",
       "Name: Employed, dtype: float64"
      ]
     },
     "execution_count": 69,
     "metadata": {},
     "output_type": "execute_result"
    }
   ],
   "source": [
    "y"
   ]
  },
  {
   "cell_type": "code",
   "execution_count": 71,
   "metadata": {},
   "outputs": [
    {
     "data": {
      "text/plain": [
       "0.05227650346917435"
      ]
     },
     "execution_count": 71,
     "metadata": {},
     "output_type": "execute_result"
    }
   ],
   "source": [
    "# Error ; MSE\n",
    "np.sum((y-z)**2)/len(z)"
   ]
  },
  {
   "cell_type": "code",
   "execution_count": null,
   "metadata": {},
   "outputs": [],
   "source": []
  }
 ],
 "metadata": {
  "kernelspec": {
   "display_name": "Python 3",
   "language": "python",
   "name": "python3"
  },
  "language_info": {
   "codemirror_mode": {
    "name": "ipython",
    "version": 3
   },
   "file_extension": ".py",
   "mimetype": "text/x-python",
   "name": "python",
   "nbconvert_exporter": "python",
   "pygments_lexer": "ipython3",
   "version": "3.7.4"
  }
 },
 "nbformat": 4,
 "nbformat_minor": 4
}
