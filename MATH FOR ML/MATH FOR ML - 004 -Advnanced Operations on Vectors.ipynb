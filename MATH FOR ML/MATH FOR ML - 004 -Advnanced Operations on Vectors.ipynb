{
 "cells": [
  {
   "cell_type": "markdown",
   "metadata": {},
   "source": [
    "# Projection\n",
    "\n",
    "## Scalar projection\n",
    "If we have two vectors `r` and `s`, we know using the cosine formula\n",
    "\n",
    "$$r.s = |r||s|cos\\theta$$\n",
    "\n",
    "- $|s|cos\\theta$ is the projection of s on r\n",
    "- $|s|cos\\theta$ is called the projection OR the shadow of `s` onto `r`\n",
    "- Multiplying $|s|cos\\theta$, we get a scalar number. This is called _scalar projection_\n",
    "\n",
    "## Vector projection\n",
    "\n",
    "- Used to embed/represent information about `r` in the dot product. i.e encode something about the direction of `r` in the dot product\n",
    "$$\\text{vector projection} = r\\text{ }\\frac{r.s}{|r||r|}$$\n",
    "$$\\text{= } r \\text{ }\\frac{r.s}{r.r}$$\n"
   ]
  },
  {
   "cell_type": "markdown",
   "metadata": {},
   "source": [
    "# Changing basis\n",
    "\n",
    "- The coordinate system is represented by unit vectors\n",
    "- Any vector can be represented as a linear combination of these unit vectors\n",
    "- The unit vectors/vectors that are used to define the vector space are called `basis vectors`\n",
    "\n",
    "\n",
    "## Finding components with different basis vectors\n",
    "\n",
    "- We can compute the coordinates for the new basis vectors using `dot` products.\n",
    "- `dot` product is computationally faster and easier to compute when the basis vectors are orthogonal to each other.\n",
    "\n",
    "### Steps\n",
    "\n",
    "- Given a vector `r` whose coordinates are mapped using basis vectors $\\hat{e_1}$ and $\\hat{e_2}$ and we have two new vectors called $\\hat{b_1}$ and $\\hat{b_2}$\n",
    "- $r_e$ => e as basis vector\n",
    "- $r_b$ => b as basis vector\n",
    "- Find projection of r on $\\hat{b_1}$\n",
    "- Find projection of r on $\\hat{b_2}$\n",
    "- Check if the vectors $\\hat{b_1}$ and $\\hat{b_2}$ are orthogonal by taking their `dot` product.\n",
    "\n",
    "$$\\cos{\\theta} = \\frac{b_1.b_2}{|b_1||b_2|}$$\n",
    "\n",
    "- $cos\\theta$ will be ZERO if the vectors are orthogonal\n",
    "- Hence, to calcuate coordinates of $r_b$, apply the following\n",
    "\n",
    "$$\\frac{r_e.b1}{|b1|^2}$$\n",
    "$$\\frac{r_e.b2}{|b2|^2}$$\n",
    "\n",
    "- General formula\n",
    "$$\\frac{r_e.bn}{|bn|^2}$$\n"
   ]
  }
 ],
 "metadata": {
  "kernelspec": {
   "display_name": "Python 3",
   "language": "python",
   "name": "python3"
  },
  "language_info": {
   "codemirror_mode": {
    "name": "ipython",
    "version": 3
   },
   "file_extension": ".py",
   "mimetype": "text/x-python",
   "name": "python",
   "nbconvert_exporter": "python",
   "pygments_lexer": "ipython3",
   "version": "3.8.5"
  }
 },
 "nbformat": 4,
 "nbformat_minor": 4
}
